{
 "cells": [
  {
   "cell_type": "markdown",
   "metadata": {},
   "source": [
    "# Situering\n",
    "- De eigenaar van een huishoudelijke zonnepaneelinstallatie zou graag continu een voorspelling hebben van de opbrengst van zijn panelen gedurende de komende uren om het eigen verbruik te optimaliseren: bij een verwachte hoge opbrengst kan hij dan bijv. beslissen om de wasmachine aan te zetten. \n",
    "- Hij beschikt over de meterstand per uur sedert ongeveer één jaar (solar.csv). \n",
    "- Daarnaast zijn ook de gegevens van de waarnemingen van het weer (weather.csv) en \n",
    "- de uren van zonsopgang en –ondergang in dezelfde periode periode (sunrise-sunset.xlsx). \n",
    "\n",
    "# Vraag\n",
    "- Stel een regressiemodel op om de opbrengst per uur te voorspellen. \n",
    "- Kies een optimaal regressiemodel door verschillende modellen uit te proberen en te vergelijken volgens de \"best practices\". \n",
    "- Kies als maatstaf de gemiddelde afwijking van de absolute waarde op uurbasis.\n",
    "\n",
    "\n"
   ]
  },
  {
   "cell_type": "code",
   "execution_count": null,
   "metadata": {},
   "outputs": [],
   "source": [
    "import sys\n",
    "import sklearn\n",
    "import numpy as np\n",
    "import pandas as pd\n",
    "import os\n",
    "import matplotlib as mpl\n",
    "import matplotlib.pyplot as plt\n",
    "from datetime import datetime"
   ]
  },
  {
   "cell_type": "markdown",
   "metadata": {},
   "source": [
    "## Preparation and cleanup of solar data"
   ]
  },
  {
   "cell_type": "code",
   "execution_count": null,
   "metadata": {},
   "outputs": [],
   "source": [
    "def prepare_solar():\n",
    "    solar = pd.read_csv('datasets/solar.csv')  \n",
    "    print(solar.head(10))\n",
    "    print('-------------')\n",
    "    print(solar.tail(10))\n",
    "    solar['datetime'] = pd.to_datetime(solar['timestamp'].str[0:19],format='%Y-%m-%d %H:%M:%S')      \n",
    "    solar['datetime_tz'] = solar['datetime'].dt.tz_localize('Europe/Berlin',ambiguous='NaT')\n",
    "    solar['datetime_utc'] = solar['datetime_tz'].dt.tz_convert('UTC')\n",
    "    solar['date'] = solar['datetime_utc'].dt.date\n",
    "    solar['hour'] = solar['datetime_utc'].dt.hour\n",
    "    solar = solar[['date','hour','kwh']]\n",
    "    solar.dropna(inplace=True)\n",
    "    solar.drop_duplicates(inplace=True)\n",
    "    # todo timediff en alles > 1u er uit. \n",
    "    return solar\n",
    "\n",
    "solar = prepare_solar()\n",
    "solar.info()\n",
    "solar.head()"
   ]
  },
  {
   "cell_type": "code",
   "execution_count": null,
   "metadata": {},
   "outputs": [],
   "source": [
    "solar.tail()"
   ]
  },
  {
   "cell_type": "markdown",
   "metadata": {},
   "source": [
    "## Preparation and cleanup of weather data"
   ]
  },
  {
   "cell_type": "code",
   "execution_count": null,
   "metadata": {},
   "outputs": [],
   "source": [
    "def prepare_weather():\n",
    "    weather = pd.read_csv(\"datasets/weather.csv\")\n",
    "    print(weather.head(10))\n",
    "    weather = weather[['timestamp','temp','pressure','cloudiness','humidity_relative']]\n",
    "    weather = weather.groupby(by=['timestamp']).mean().reset_index()\n",
    "    weather['datetime'] = pd.to_datetime(weather['timestamp'],format='%Y-%m-%dT%H:%M:%S')\n",
    "    weather['date'] = weather['datetime'].dt.date\n",
    "    weather['hour'] = weather['datetime'].dt.hour   \n",
    "    weather = weather[['date','hour','temp','pressure','cloudiness','humidity_relative']]\n",
    "    weather.drop_duplicates(inplace=True)\n",
    "    return weather\n",
    "\n",
    "weather = prepare_weather()\n",
    "weather.info()\n",
    "weather.head(30)\n"
   ]
  },
  {
   "cell_type": "markdown",
   "metadata": {},
   "source": [
    "## Preparation and cleanup of sunrise/sunset data"
   ]
  },
  {
   "cell_type": "code",
   "execution_count": null,
   "metadata": {},
   "outputs": [],
   "source": [
    "%pip install openpyxl"
   ]
  },
  {
   "cell_type": "code",
   "execution_count": null,
   "metadata": {},
   "outputs": [],
   "source": [
    "def prepare_sunrise_sunset():\n",
    "    sunrise_sunset = pd.read_excel(\"datasets/sunrise-sunset.xlsx\") \n",
    "    print(sunrise_sunset.head(10))\n",
    "    sunrise_sunset.rename(columns={'datum':'date'}, inplace=True)\n",
    "    sunrise_sunset['sunrise'] = [pd.Timestamp.combine(d,t) for d,t in zip(sunrise_sunset['date'],sunrise_sunset['Opkomst'])]\n",
    "    sunrise_sunset['noon'] = [pd.Timestamp.combine(d,t) for d,t in zip(sunrise_sunset['date'],sunrise_sunset['Op ware middag'])]\n",
    "    sunrise_sunset['sunset'] = [pd.Timestamp.combine(d,t) for d,t in zip(sunrise_sunset['date'],sunrise_sunset['Ondergang'])]\n",
    "    sunrise_sunset['sunrise'] = sunrise_sunset['sunrise'].dt.tz_localize('Europe/Berlin',ambiguous='NaT')\n",
    "    sunrise_sunset['sunrise'] = sunrise_sunset['sunrise'].dt.tz_convert('UTC')\n",
    "    sunrise_sunset['sunset'] = sunrise_sunset['sunset'].dt.tz_localize('Europe/Berlin',ambiguous='NaT')\n",
    "    sunrise_sunset['sunset'] = sunrise_sunset['sunset'].dt.tz_convert('UTC')\n",
    "    sunrise_sunset['date'] = sunrise_sunset['date'].dt.date\n",
    "    sunrise_sunset = sunrise_sunset[['date','sunrise','sunset']]\n",
    "    return sunrise_sunset\n",
    "\n",
    "sunrise_sunset = prepare_sunrise_sunset()\n",
    "sunrise_sunset.info()\n",
    "sunrise_sunset.head()"
   ]
  },
  {
   "cell_type": "markdown",
   "metadata": {},
   "source": [
    "Combine solar and weather data in a single dataframe. "
   ]
  },
  {
   "cell_type": "code",
   "execution_count": 8,
   "metadata": {},
   "outputs": [],
   "source": [
    "solar_weather = pd.merge(solar,weather, on=['date', 'hour'],how='inner')\n"
   ]
  },
  {
   "cell_type": "markdown",
   "metadata": {},
   "source": [
    "Now also combine this dataset with sunrise_sunset. "
   ]
  },
  {
   "cell_type": "code",
   "execution_count": 12,
   "metadata": {},
   "outputs": [
    {
     "data": {
      "text/html": [
       "<div>\n",
       "<style scoped>\n",
       "    .dataframe tbody tr th:only-of-type {\n",
       "        vertical-align: middle;\n",
       "    }\n",
       "\n",
       "    .dataframe tbody tr th {\n",
       "        vertical-align: top;\n",
       "    }\n",
       "\n",
       "    .dataframe thead th {\n",
       "        text-align: right;\n",
       "    }\n",
       "</style>\n",
       "<table border=\"1\" class=\"dataframe\">\n",
       "  <thead>\n",
       "    <tr style=\"text-align: right;\">\n",
       "      <th></th>\n",
       "      <th>date</th>\n",
       "      <th>hour</th>\n",
       "      <th>kwh</th>\n",
       "      <th>temp</th>\n",
       "      <th>pressure</th>\n",
       "      <th>cloudiness</th>\n",
       "      <th>humidity_relative</th>\n",
       "      <th>sunrise</th>\n",
       "      <th>sunset</th>\n",
       "    </tr>\n",
       "  </thead>\n",
       "  <tbody>\n",
       "    <tr>\n",
       "      <th>9335</th>\n",
       "      <td>2024-04-19</td>\n",
       "      <td>4.0</td>\n",
       "      <td>2417.3321</td>\n",
       "      <td>8.750</td>\n",
       "      <td>1014.100</td>\n",
       "      <td>7.5</td>\n",
       "      <td>93.900000</td>\n",
       "      <td>2024-04-19 04:39:00+00:00</td>\n",
       "      <td>2024-04-19 18:45:00+00:00</td>\n",
       "    </tr>\n",
       "    <tr>\n",
       "      <th>9336</th>\n",
       "      <td>2024-04-19</td>\n",
       "      <td>5.0</td>\n",
       "      <td>2417.3321</td>\n",
       "      <td>9.300</td>\n",
       "      <td>1013.675</td>\n",
       "      <td>7.5</td>\n",
       "      <td>93.600000</td>\n",
       "      <td>2024-04-19 04:39:00+00:00</td>\n",
       "      <td>2024-04-19 18:45:00+00:00</td>\n",
       "    </tr>\n",
       "    <tr>\n",
       "      <th>9337</th>\n",
       "      <td>2024-04-19</td>\n",
       "      <td>6.0</td>\n",
       "      <td>2417.3336</td>\n",
       "      <td>9.575</td>\n",
       "      <td>1013.475</td>\n",
       "      <td>8.0</td>\n",
       "      <td>91.666667</td>\n",
       "      <td>2024-04-19 04:39:00+00:00</td>\n",
       "      <td>2024-04-19 18:45:00+00:00</td>\n",
       "    </tr>\n",
       "    <tr>\n",
       "      <th>9338</th>\n",
       "      <td>2024-04-19</td>\n",
       "      <td>7.0</td>\n",
       "      <td>2417.3701</td>\n",
       "      <td>9.925</td>\n",
       "      <td>1013.325</td>\n",
       "      <td>8.0</td>\n",
       "      <td>91.066667</td>\n",
       "      <td>2024-04-19 04:39:00+00:00</td>\n",
       "      <td>2024-04-19 18:45:00+00:00</td>\n",
       "    </tr>\n",
       "    <tr>\n",
       "      <th>9339</th>\n",
       "      <td>2024-04-19</td>\n",
       "      <td>8.0</td>\n",
       "      <td>2417.4788</td>\n",
       "      <td>10.400</td>\n",
       "      <td>1012.975</td>\n",
       "      <td>8.0</td>\n",
       "      <td>88.466667</td>\n",
       "      <td>2024-04-19 04:39:00+00:00</td>\n",
       "      <td>2024-04-19 18:45:00+00:00</td>\n",
       "    </tr>\n",
       "  </tbody>\n",
       "</table>\n",
       "</div>"
      ],
      "text/plain": [
       "            date  hour        kwh    temp  pressure  cloudiness  \\\n",
       "9335  2024-04-19   4.0  2417.3321   8.750  1014.100         7.5   \n",
       "9336  2024-04-19   5.0  2417.3321   9.300  1013.675         7.5   \n",
       "9337  2024-04-19   6.0  2417.3336   9.575  1013.475         8.0   \n",
       "9338  2024-04-19   7.0  2417.3701   9.925  1013.325         8.0   \n",
       "9339  2024-04-19   8.0  2417.4788  10.400  1012.975         8.0   \n",
       "\n",
       "      humidity_relative                   sunrise                    sunset  \n",
       "9335          93.900000 2024-04-19 04:39:00+00:00 2024-04-19 18:45:00+00:00  \n",
       "9336          93.600000 2024-04-19 04:39:00+00:00 2024-04-19 18:45:00+00:00  \n",
       "9337          91.666667 2024-04-19 04:39:00+00:00 2024-04-19 18:45:00+00:00  \n",
       "9338          91.066667 2024-04-19 04:39:00+00:00 2024-04-19 18:45:00+00:00  \n",
       "9339          88.466667 2024-04-19 04:39:00+00:00 2024-04-19 18:45:00+00:00  "
      ]
     },
     "execution_count": 12,
     "metadata": {},
     "output_type": "execute_result"
    }
   ],
   "source": [
    "all = pd.merge(solar_weather, sunrise_sunset,on=['date'],how='inner')\n",
    "\n",
    "all.tail()"
   ]
  },
  {
   "cell_type": "markdown",
   "metadata": {},
   "source": [
    "## Feature Engineering\n",
    "Only keep following features: \n",
    "- dayinyear: number of the day in de year (1/1 = 1, 31/12 = 365)\n",
    "- sunrise_delta: hours after sunrise\n",
    "- sunset_delta: hours before sunset\n",
    "- temp\n",
    "- pressure\n",
    "- cloudiness\n",
    "- humidity\n",
    "- production (kW): yield of the current hour"
   ]
  },
  {
   "cell_type": "code",
   "execution_count": null,
   "metadata": {},
   "outputs": [],
   "source": [
    "input.info()"
   ]
  },
  {
   "cell_type": "code",
   "execution_count": null,
   "metadata": {},
   "outputs": [],
   "source": [
    "input['date'] = pd.to_datetime(input['date'])\n",
    "input['dayinyear'] = input['date'].dt.dayofyear\n",
    "\n",
    "input.head()"
   ]
  },
  {
   "cell_type": "code",
   "execution_count": null,
   "metadata": {},
   "outputs": [],
   "source": [
    "# - sunrise_delta: hours after sunrise\n",
    "# - sunset_delta: hours before sunset\n",
    "# - temp\n",
    "# - pressure\n",
    "# - cloudiness\n",
    "# - humidity\n",
    "# - production (kW): yield of the current hourinput.info()\n",
    "\n",
    "input['sunrise_delta'] = input['hour'] - input['sunrise'].dt.hour \n",
    "input['sunset_delta'] = input['hour'] - input['sunset'].dt.hour \n",
    "input = input.drop(columns=['date', 'sunrise', 'sunset', 'date_only'])\n",
    "input.head()\n",
    "\n",
    "input."
   ]
  },
  {
   "cell_type": "markdown",
   "metadata": {},
   "source": [
    "Create a histogram for all numerical features"
   ]
  },
  {
   "cell_type": "code",
   "execution_count": null,
   "metadata": {},
   "outputs": [],
   "source": [
    "import matplotlib.pyplot as plt\n",
    "\n",
    "fig, axes = plt.subplots(3, 2, figsize=(15, 12))\n",
    "axes = axes.flatten()\n",
    "\n",
    "input['temp'].hist(ax=axes[0])\n",
    "axes[0].set_title('Temperature')\n",
    "\n",
    "input['pressure'].hist(ax=axes[1])\n",
    "axes[1].set_title('Pressure')\n",
    "\n",
    "input['cloudiness'].hist(ax=axes[2])\n",
    "axes[2].set_title('Cloudiness')\n",
    "\n",
    "input['humidity_relative'].hist(ax=axes[3])\n",
    "axes[3].set_title('Relative Humidity')\n",
    "\n",
    "input['kwh'].hist(ax=axes[4])\n",
    "axes[4].set_title('kWh')\n",
    "\n",
    "input['sunrise_delta'].hist()"
   ]
  },
  {
   "cell_type": "code",
   "execution_count": null,
   "metadata": {},
   "outputs": [],
   "source": [
    "input.describe()"
   ]
  },
  {
   "cell_type": "markdown",
   "metadata": {},
   "source": [
    "Which column requires further attention? Find the odd data en fix it. "
   ]
  },
  {
   "cell_type": "markdown",
   "metadata": {},
   "source": [
    "Store the current dataframe to a csv file so we can use it later. "
   ]
  },
  {
   "cell_type": "markdown",
   "metadata": {},
   "source": [
    "Read the data from the csv file"
   ]
  },
  {
   "cell_type": "markdown",
   "metadata": {},
   "source": [
    "Split the dataset in a training and a testset"
   ]
  },
  {
   "cell_type": "markdown",
   "metadata": {},
   "source": [
    "Create a Random Forest model to predict the hourly production. \n",
    "- Create a pipeline with a StandardScaler and and a random forest regressor\n",
    "- Find the optimal parameter combination amongst\n",
    "  - bootstrap: False, True\n",
    "  - n_estimators: 50 - 200 with steps of 50\n",
    "  - max_depth: 10 - 50 with steps of 10 "
   ]
  },
  {
   "cell_type": "code",
   "execution_count": null,
   "metadata": {},
   "outputs": [],
   "source": [
    "from sklearn.preprocessing import StandardScaler\n",
    "from sklearn.pipeline import make_pipeline\n",
    "from sklearn.ensemble import RandomForestRegressor\n",
    "from sklearn.model_selection import GridSearchCV\n",
    "\n",
    "attribs = train_set.drop('production', axis=1)\n",
    "labels = train_set['production'].copy()\n",
    "\n",
    "forest_reg = RandomForestRegressor(random_state=42)\n",
    "param_grid = [\n",
    "    {'randomforestregressor__n_estimators': np.arange(50,201,50), 'randomforestregressor__max_depth': np.arange(10,51,10)},\n",
    "    {'randomforestregressor__bootstrap': [False], 'randomforestregressor__n_estimators': np.arange(50,201,50), \n",
    "              'randomforestregressor__max_depth': np.arange(10,51,10)} \n",
    "  ]\n",
    "\n",
    "pipeline = make_pipeline(StandardScaler(), forest_reg)\n",
    "grid_search = GridSearchCV(pipeline, param_grid, cv=4, scoring='neg_mean_absolute_error', return_train_score=True,\n",
    "                           verbose=4, n_jobs=-1)\n",
    "\n",
    "grid_search.fit(attribs, labels)\n",
    "\n",
    "print(grid_search.best_params_)\n",
    "print(grid_search.best_estimator_)\n",
    "print(grid_search.best_score_)"
   ]
  },
  {
   "cell_type": "markdown",
   "metadata": {},
   "source": [
    "Determine the mean absolute error on the test set. Is this a useful model? "
   ]
  },
  {
   "cell_type": "code",
   "execution_count": null,
   "metadata": {},
   "outputs": [],
   "source": [
    "from sklearn.metrics import mean_absolute_error\n",
    "\n",
    "final_model = grid_search.best_estimator_\n",
    "test_attribs = test_set.drop('production', axis=1)\n",
    "test_labels = test_set['production'].copy()\n",
    "test_predictions = final_model.predict(test_attribs)\n",
    "final_mae = mean_absolute_error(test_labels, test_predictions)\n",
    "final_mae"
   ]
  },
  {
   "cell_type": "markdown",
   "metadata": {},
   "source": [
    "Explain the concept of noise in this context"
   ]
  },
  {
   "cell_type": "markdown",
   "metadata": {},
   "source": [
    "beschaduwing, vervuiling"
   ]
  },
  {
   "cell_type": "markdown",
   "metadata": {},
   "source": [
    "Store the model to a file. "
   ]
  },
  {
   "cell_type": "code",
   "execution_count": null,
   "metadata": {},
   "outputs": [],
   "source": [
    "import joblib\n",
    "joblib.dump(final_model, 'solar_production.pkl')"
   ]
  }
 ],
 "metadata": {
  "kernelspec": {
   "display_name": ".venv",
   "language": "python",
   "name": "python3"
  },
  "language_info": {
   "codemirror_mode": {
    "name": "ipython",
    "version": 3
   },
   "file_extension": ".py",
   "mimetype": "text/x-python",
   "name": "python",
   "nbconvert_exporter": "python",
   "pygments_lexer": "ipython3",
   "version": "3.13.2"
  }
 },
 "nbformat": 4,
 "nbformat_minor": 2
}
